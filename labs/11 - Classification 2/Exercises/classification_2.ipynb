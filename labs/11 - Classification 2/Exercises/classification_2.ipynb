{
  "cells": [
    {
      "cell_type": "markdown",
      "metadata": {
        "colab_type": "text",
        "id": "view-in-github"
      },
      "source": [
        "<a href=\"https://colab.research.google.com/github/michalis0/Business-Intelligence-and-Analytics/blob/master/labs/11%20-%20Classification%202/Exercises/classification_2.ipynb\" target=\"_parent\"><img src=\"https://colab.research.google.com/assets/colab-badge.svg\" alt=\"Open In Colab\"/></a>"
      ]
    },
    {
      "cell_type": "markdown",
      "metadata": {
        "id": "EcgnGJdJ4QX8"
      },
      "source": [
        "<h1 align=\"center\"> EXERCISES - CLASSIFICATION 2</h1>\n",
        "\n",
        "<div>\n",
        "<td>\n",
        "<img src=\"https://upload.wikimedia.org/wikipedia/commons/thumb/2/2b/Logo_Universit%C3%A9_de_Lausanne.svg/2000px-Logo_Universit%C3%A9_de_Lausanne.svg.png\" style=\"padding-right:10px;width:240px;float:left\"/></td>\n",
        "<h2 style=\"white-space: nowrap\">Business Intelligence and Analytics</h2></td>\n",
        "<hr style=\"clear:both\">\n",
        "<p style=\"font-size:0.85em; margin:2px; text-align:justify\">\n",
        "\n",
        "</div>"
      ]
    },
    {
      "cell_type": "markdown",
      "metadata": {
        "id": "R1BSf8GX2sQd"
      },
      "source": [
        "## KNN and Decision Trees\n",
        "\n",
        "In this lab we will work on K Nearest Neighbor and Decision Trees for classification."
      ]
    },
    {
      "cell_type": "code",
      "execution_count": 10,
      "metadata": {
        "id": "2D9mQhcj2sQe"
      },
      "outputs": [
        {
          "name": "stdout",
          "output_type": "stream",
          "text": [
            "The autoreload extension is already loaded. To reload it, use:\n",
            "  %reload_ext autoreload\n"
          ]
        }
      ],
      "source": [
        "%matplotlib inline\n",
        "import numpy as np\n",
        "import matplotlib.pyplot as plt\n",
        "from matplotlib import collections  as mc\n",
        "%load_ext autoreload\n",
        "%autoreload 2\n",
        "import pandas as pd\n",
        "import seaborn as sns\n",
        "from sklearn.preprocessing import LabelEncoder, OneHotEncoder\n",
        "sns.set_style(\"white\")"
      ]
    },
    {
      "cell_type": "code",
      "execution_count": 11,
      "metadata": {
        "id": "Q1CKWYwc2sQh"
      },
      "outputs": [],
      "source": [
        "np.random.seed(72)"
      ]
    },
    {
      "cell_type": "markdown",
      "metadata": {
        "id": "bTVsCvCv2sQl"
      },
      "source": [
        "### Load data\n",
        "\n",
        "We will start with the `heart disease` dataset from last week. Here's a description of the attributes in the data-set:\n",
        "\n",
        "> 1. age\n",
        "> 2. sex\n",
        "> 3. chest pain type (4 values)\n",
        "> 4. resting blood pressure\n",
        "> 5. serum cholestoral in mg/dl\n",
        "> 6. fasting blood sugar > 120 mg/dl\n",
        "> 7. resting electrocardiographic results (values 0,1,2)\n",
        "> 8. maximum heart rate achieved\n",
        "> 9. exercise induced angina\n",
        "> 10. target: 1: presence 0: absence of a heart disease"
      ]
    },
    {
      "cell_type": "code",
      "execution_count": 12,
      "metadata": {
        "id": "5trH0DXt2sQl"
      },
      "outputs": [
        {
          "data": {
            "text/html": [
              "<div>\n",
              "<style scoped>\n",
              "    .dataframe tbody tr th:only-of-type {\n",
              "        vertical-align: middle;\n",
              "    }\n",
              "\n",
              "    .dataframe tbody tr th {\n",
              "        vertical-align: top;\n",
              "    }\n",
              "\n",
              "    .dataframe thead th {\n",
              "        text-align: right;\n",
              "    }\n",
              "</style>\n",
              "<table border=\"1\" class=\"dataframe\">\n",
              "  <thead>\n",
              "    <tr style=\"text-align: right;\">\n",
              "      <th></th>\n",
              "      <th>age</th>\n",
              "      <th>sex</th>\n",
              "      <th>cp</th>\n",
              "      <th>trestbps</th>\n",
              "      <th>chol</th>\n",
              "      <th>fbs</th>\n",
              "      <th>restecg</th>\n",
              "      <th>thalach</th>\n",
              "      <th>exang</th>\n",
              "      <th>target</th>\n",
              "    </tr>\n",
              "  </thead>\n",
              "  <tbody>\n",
              "    <tr>\n",
              "      <th>0</th>\n",
              "      <td>67</td>\n",
              "      <td>M</td>\n",
              "      <td>A</td>\n",
              "      <td>160</td>\n",
              "      <td>286</td>\n",
              "      <td>no</td>\n",
              "      <td>A</td>\n",
              "      <td>108</td>\n",
              "      <td>yes</td>\n",
              "      <td>0</td>\n",
              "    </tr>\n",
              "    <tr>\n",
              "      <th>1</th>\n",
              "      <td>67</td>\n",
              "      <td>M</td>\n",
              "      <td>A</td>\n",
              "      <td>120</td>\n",
              "      <td>229</td>\n",
              "      <td>no</td>\n",
              "      <td>A</td>\n",
              "      <td>129</td>\n",
              "      <td>yes</td>\n",
              "      <td>0</td>\n",
              "    </tr>\n",
              "    <tr>\n",
              "      <th>2</th>\n",
              "      <td>62</td>\n",
              "      <td>F</td>\n",
              "      <td>A</td>\n",
              "      <td>140</td>\n",
              "      <td>268</td>\n",
              "      <td>no</td>\n",
              "      <td>A</td>\n",
              "      <td>160</td>\n",
              "      <td>no</td>\n",
              "      <td>0</td>\n",
              "    </tr>\n",
              "    <tr>\n",
              "      <th>3</th>\n",
              "      <td>63</td>\n",
              "      <td>M</td>\n",
              "      <td>A</td>\n",
              "      <td>130</td>\n",
              "      <td>254</td>\n",
              "      <td>no</td>\n",
              "      <td>A</td>\n",
              "      <td>147</td>\n",
              "      <td>no</td>\n",
              "      <td>0</td>\n",
              "    </tr>\n",
              "    <tr>\n",
              "      <th>4</th>\n",
              "      <td>53</td>\n",
              "      <td>M</td>\n",
              "      <td>A</td>\n",
              "      <td>140</td>\n",
              "      <td>203</td>\n",
              "      <td>yes</td>\n",
              "      <td>A</td>\n",
              "      <td>155</td>\n",
              "      <td>yes</td>\n",
              "      <td>0</td>\n",
              "    </tr>\n",
              "  </tbody>\n",
              "</table>\n",
              "</div>"
            ],
            "text/plain": [
              "   age sex cp  trestbps  chol  fbs restecg  thalach exang  target\n",
              "0   67   M  A       160   286   no       A      108   yes       0\n",
              "1   67   M  A       120   229   no       A      129   yes       0\n",
              "2   62   F  A       140   268   no       A      160    no       0\n",
              "3   63   M  A       130   254   no       A      147    no       0\n",
              "4   53   M  A       140   203  yes       A      155   yes       0"
            ]
          },
          "execution_count": 12,
          "metadata": {},
          "output_type": "execute_result"
        }
      ],
      "source": [
        "# data-set: heart.csv\n",
        "df = pd.read_csv(\"https://media.githubusercontent.com/media/michalis0/Business-Intelligence-and-Analytics/master/data/heart_2025.csv\", delimiter=';')\n",
        "df.head()"
      ]
    },
    {
      "cell_type": "code",
      "execution_count": 13,
      "metadata": {
        "id": "yFUEig7y2sQp"
      },
      "outputs": [],
      "source": [
        "from sklearn.neighbors import KNeighborsClassifier\n",
        "from sklearn.preprocessing import StandardScaler\n",
        "from sklearn import datasets"
      ]
    },
    {
      "cell_type": "markdown",
      "metadata": {
        "id": "7BLOy4W32sQt"
      },
      "source": [
        "### K-neirest neighbor classification\n",
        "\n",
        "Let's start with only 2 features: age and maximum heart rate achieved (thalach). Define your features and target variable."
      ]
    },
    {
      "cell_type": "code",
      "execution_count": 14,
      "metadata": {
        "id": "ki6QRs6t2sQu"
      },
      "outputs": [],
      "source": [
        "X = \"YOUR CODE HERE\"\n",
        "y = \"YOUR CODE HERE\""
      ]
    },
    {
      "cell_type": "markdown",
      "metadata": {
        "id": "IjPq4TjY4I-C"
      },
      "source": [
        "Split your data set into train and test subsets. Use the sklearn `train_test_split` with `test_size=0.2` and `random_state=72`."
      ]
    },
    {
      "cell_type": "code",
      "execution_count": 15,
      "metadata": {
        "id": "iNvVsTIp2sQx"
      },
      "outputs": [],
      "source": [
        "from sklearn.model_selection import train_test_split\n",
        "# YOUR CODE HERE"
      ]
    },
    {
      "cell_type": "markdown",
      "metadata": {
        "id": "Vw5rbTEV3hnH"
      },
      "source": [
        "Define a KNN model with __3__ number of neighbors.\n"
      ]
    },
    {
      "cell_type": "code",
      "execution_count": 16,
      "metadata": {
        "id": "DQM7lDu1uMUy"
      },
      "outputs": [],
      "source": [
        "#Create model\n",
        "model = \"YOUR CODE HERE\""
      ]
    },
    {
      "cell_type": "markdown",
      "metadata": {
        "id": "MyxTAXGs3nez"
      },
      "source": [
        "Fit your model now using the train set."
      ]
    },
    {
      "cell_type": "code",
      "execution_count": null,
      "metadata": {
        "id": "F9WckoiSD8kv"
      },
      "outputs": [],
      "source": [
        "model.fit(\"YOUR CODE HERE\")"
      ]
    },
    {
      "cell_type": "markdown",
      "metadata": {
        "id": "WCu8nkWe3sXG"
      },
      "source": [
        "Compare your train and test accuracy for the KNN model."
      ]
    },
    {
      "cell_type": "code",
      "execution_count": null,
      "metadata": {
        "id": "-YK9xRp6CIyP"
      },
      "outputs": [],
      "source": [
        "# train accuracy\n",
        "\"YOUR CODE HERE\""
      ]
    },
    {
      "cell_type": "code",
      "execution_count": null,
      "metadata": {
        "id": "4V2KZ7XTCNNK"
      },
      "outputs": [],
      "source": [
        "# test accuracy\n",
        "\"YOUR CODE HERE\""
      ]
    },
    {
      "cell_type": "markdown",
      "metadata": {
        "id": "WYS-bFxJrZNw"
      },
      "source": [
        "Calculate the base rate"
      ]
    },
    {
      "cell_type": "code",
      "execution_count": null,
      "metadata": {
        "id": "EFsMa1m2r7pj"
      },
      "outputs": [],
      "source": [
        "#Compute the base rate\n",
        "#Base rate = (most frequent class)/(total observations)\n",
        "nbr_heart_disease = df.loc[df[\"YOUR CODE HERE\"] == 1].shape[0]\n",
        "print(\"#Heart disease = \", \"YOUR CODE HERE\")\n",
        "\n",
        "nbr_no_heart_disease = df.loc[df[\"YOUR CODE HERE\"] == 0].shape[0]\n",
        "print(\"#No heart disease = \", \"YOUR CODE HERE\")\n",
        "\n",
        "print(\"Baserate = \", \"YOUR CODE HERE\")"
      ]
    },
    {
      "cell_type": "markdown",
      "metadata": {
        "id": "cjgp2sfVrb8B"
      },
      "source": [
        "Show the confusion matrix for the KNN model."
      ]
    },
    {
      "cell_type": "code",
      "execution_count": null,
      "metadata": {
        "id": "2DsK5wpLrfSt"
      },
      "outputs": [],
      "source": [
        "#Confusion matrix\n",
        "from sklearn.metrics import confusion_matrix\n",
        "confusion_matrix(\"YOUR CODE HERE\")"
      ]
    },
    {
      "cell_type": "markdown",
      "metadata": {
        "id": "BapRfVTr8N5Z"
      },
      "source": [
        "For which combination of K (number of neighbors), the value `p` (distance metric), and weight do we obtain the best accurary? Use the values indicated in the following code cell."
      ]
    },
    {
      "cell_type": "markdown",
      "metadata": {},
      "source": [
        "<h2>Important: This question answers the Moodle quiz question 1. </h2>"
      ]
    },
    {
      "cell_type": "code",
      "execution_count": null,
      "metadata": {
        "id": "OAzuyS0E8W_E"
      },
      "outputs": [],
      "source": [
        "n_neighbors = [2,3,4,5,6,7]\n",
        "p_values = [1,2]\n",
        "weights = ['uniform', 'distance']\n",
        "for n in n_neighbors:\n",
        "    for p in p_values:\n",
        "        for w in weights:\n",
        "            model = KNeighborsClassifier(n_neighbors=n, p=p, weights=w)\n",
        "            model.fit(\"YOUR CODE HERE\")\n",
        "            print(\"accuracy for k = \" + str(n) + \", p = \" + str(p) + \", weight = \" + w + \" : \" + str(model.score(\"YOUR CODE HERE\")))"
      ]
    },
    {
      "cell_type": "markdown",
      "metadata": {
        "id": "iwF1RHqA75K6"
      },
      "source": [
        "Now, using the KNN model with the best parameters you achieved above, let's try to predict the class and probability of correct classification for Age = 50, Thalach = 130 and Age = 70, Thalach = 160"
      ]
    },
    {
      "cell_type": "code",
      "execution_count": null,
      "metadata": {
        "id": "-QaYk6UE5WYA"
      },
      "outputs": [],
      "source": [
        "# define and train the model with the best parameters\n",
        "model = KNeighborsClassifier(\"YOUR CODE HERE\")\n",
        "model.fit(\"YOUR CODE HERE\")"
      ]
    },
    {
      "cell_type": "code",
      "execution_count": null,
      "metadata": {
        "id": "jxYtT2fU75K7"
      },
      "outputs": [],
      "source": [
        "print(model.predict(\"YOUR CODE HERE\"))\n",
        "print(model.predict_proba(\"YOUR CODE HERE\"))"
      ]
    },
    {
      "cell_type": "markdown",
      "metadata": {
        "id": "QRpOrur22sRV"
      },
      "source": [
        "Now let's try more numerical features and see if the accuracy improves.\n",
        "We will use now \"age\", \"thalach\", \"trestbps\" and \"chol\".\n",
        "Define your features and your target variable."
      ]
    },
    {
      "cell_type": "code",
      "execution_count": null,
      "metadata": {
        "id": "uDnaUYF92sRV"
      },
      "outputs": [],
      "source": [
        "X = \"YOUR CODE HERE\"\n",
        "y = \"YOUR CODE HERE\""
      ]
    },
    {
      "cell_type": "markdown",
      "metadata": {
        "id": "0q09jUP34hme"
      },
      "source": [
        "Split your data set into train and test subsets. Again use `test_size=0.2, random_state=72`."
      ]
    },
    {
      "cell_type": "code",
      "execution_count": null,
      "metadata": {
        "id": "1g55iCbL2sRY"
      },
      "outputs": [],
      "source": [
        "# YOUR CODE HERE"
      ]
    },
    {
      "cell_type": "markdown",
      "metadata": {
        "id": "CsuD0tPc4ugm"
      },
      "source": [
        "Standardize your data using the sklearn standard scaler."
      ]
    },
    {
      "cell_type": "code",
      "execution_count": null,
      "metadata": {
        "id": "R9ScYZRs2sRd"
      },
      "outputs": [],
      "source": [
        "standardize = StandardScaler()\n",
        "\"YOUR CODE HERE\""
      ]
    },
    {
      "cell_type": "code",
      "execution_count": null,
      "metadata": {
        "id": "I9Y0TMkp2sRg"
      },
      "outputs": [],
      "source": [
        "X_train = \"YOUR CODE HERE\"\n",
        "X_test = \"YOUR CODE HERE\""
      ]
    },
    {
      "cell_type": "markdown",
      "metadata": {
        "id": "QQOpg_A04zNw"
      },
      "source": [
        "Fit your model using the train data. Let's use the same KNN model that you defined above.\n",
        "\n"
      ]
    },
    {
      "cell_type": "code",
      "execution_count": null,
      "metadata": {
        "id": "8MMBMLJZ2sRk"
      },
      "outputs": [],
      "source": [
        "model.fit(\"YOUR CODE HERE\")"
      ]
    },
    {
      "cell_type": "markdown",
      "metadata": {
        "id": "pEOw7KN8421R"
      },
      "source": [
        "Compare your train and test accurary."
      ]
    },
    {
      "cell_type": "code",
      "execution_count": null,
      "metadata": {
        "id": "nwPGNVyx2sRp"
      },
      "outputs": [],
      "source": [
        "# train accuracy\n",
        "\"YOUR CODE HERE\""
      ]
    },
    {
      "cell_type": "code",
      "execution_count": null,
      "metadata": {
        "id": "w2cIMQD-2sRs"
      },
      "outputs": [],
      "source": [
        "# test accuracy\n",
        "\"YOUR CODE HERE\""
      ]
    },
    {
      "cell_type": "code",
      "execution_count": null,
      "metadata": {
        "id": "wn-EZaVmD0of"
      },
      "outputs": [],
      "source": [
        "#Confusion matrix for the test predictions\n",
        "from sklearn.metrics import confusion_matrix\n",
        "\"YOUR CODE HERE\""
      ]
    },
    {
      "cell_type": "markdown",
      "metadata": {},
      "source": [
        "**Question:** Compute the recall and precision of the model for the test set."
      ]
    },
    {
      "cell_type": "code",
      "execution_count": null,
      "metadata": {},
      "outputs": [],
      "source": []
    },
    {
      "cell_type": "markdown",
      "metadata": {
        "id": "8LyUkgxEejXV"
      },
      "source": [
        "### Decision tree classification\n",
        "\n",
        "We will now use the decision tree algorithm for classification. We will use the same dataset as the above exercise, i.e., we use the 4 features \"age\", \"thalach\", \"trestbps\", \"chol\".\n",
        "\n",
        "Import the necessary libraries for decision tree classification, define the model and train your model. The test it. What is the accuracy of your model (using the test set)?"
      ]
    },
    {
      "cell_type": "code",
      "execution_count": null,
      "metadata": {
        "id": "TLeAUxpCev2f"
      },
      "outputs": [],
      "source": [
        "from sklearn import tree\n",
        "from sklearn.tree import DecisionTreeClassifier\n",
        "model = DecisionTreeClassifier(max_depth = 1)\n",
        "model.fit(\"YOUR CODE HERE\")\n",
        "print(model.score(\"YOUR CODE HERE\"))"
      ]
    },
    {
      "cell_type": "markdown",
      "metadata": {
        "id": "foQ2ukBEkxmo"
      },
      "source": [
        "How can you improve your model?\n",
        "\n",
        "As you may know increasing the depth of the decision tree can improve its accuracy, but it can also lead to overfitting! Using the range of values for depth provided in the cell below, find the depth value that leads to the best test accuracy."
      ]
    },
    {
      "cell_type": "markdown",
      "metadata": {},
      "source": [
        "<h2>Important: This question answers the Moodle quiz question 2. </h2>"
      ]
    },
    {
      "cell_type": "code",
      "execution_count": null,
      "metadata": {
        "id": "qfJ0pPZHexKG"
      },
      "outputs": [],
      "source": [
        "best_acc = 0\n",
        "for depth in range(1, 8):\n",
        "  model = DecisionTreeClassifier(\"YOUR CODE HERE\")\n",
        "  model.fit(\"YOUR CODE HERE\")\n",
        "  accuracy = model.score(\"YOUR CODE HERE\")\n",
        "  if accuracy > best_acc:\n",
        "    best_acc = accuracy\n",
        "    best_depth = depth\n",
        "print(\"best depth: \", \"YOUR CODE HERE\")"
      ]
    }
  ],
  "metadata": {
    "colab": {
      "include_colab_link": true,
      "name": "Exercises_Classification_2.ipynb",
      "provenance": []
    },
    "kernelspec": {
      "display_name": "base",
      "language": "python",
      "name": "python3"
    },
    "language_info": {
      "codemirror_mode": {
        "name": "ipython",
        "version": 3
      },
      "file_extension": ".py",
      "mimetype": "text/x-python",
      "name": "python",
      "nbconvert_exporter": "python",
      "pygments_lexer": "ipython3",
      "version": "3.11.5"
    }
  },
  "nbformat": 4,
  "nbformat_minor": 0
}
