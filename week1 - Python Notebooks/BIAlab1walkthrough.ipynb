{
  "nbformat": 4,
  "nbformat_minor": 0,
  "metadata": {
    "colab": {
      "name": "BIAlab1walkthrough.ipynb",
      "provenance": [],
      "collapsed_sections": [],
      "include_colab_link": true
    },
    "kernelspec": {
      "name": "python3",
      "display_name": "Python 3"
    }
  },
  "cells": [
    {
      "cell_type": "markdown",
      "metadata": {
        "id": "view-in-github",
        "colab_type": "text"
      },
      "source": [
        "<a href=\"https://colab.research.google.com/github/michalis0/Business-Intelligence-and-Analytics/blob/master/week1%20-%20Python%20Notebooks/BIAlab1walkthrough.ipynb\" target=\"_parent\"><img src=\"https://colab.research.google.com/assets/colab-badge.svg\" alt=\"Open In Colab\"/></a>"
      ]
    },
    {
      "cell_type": "code",
      "metadata": {
        "colab": {
          "base_uri": "https://localhost:8080/",
          "height": 76
        },
        "id": "-Et-C3loyXPx",
        "outputId": "553c89b5-6c51-465f-e534-571f371e416e"
      },
      "source": [
        "#@title Walkthrough - Lab 1\n",
        "\n",
        "%%html\n",
        "\n",
        "<div>\n",
        "<td> \n",
        "<img src=\"https://www.unil.ch/logo/files/live/sites/logo/files/web/eps/lo_unil06_bleu.eps\" style=\"padding-right:10px;width:240px;float:left\"/></td>\n",
        "<h2 style=\"white-space: nowrap\">Business Intelligence and Analytics</h2></td>\n",
        "<hr style=\"clear:both\">\n",
        "<p style=\"font-size:0.85em; margin:2px; text-align:justify\">\n",
        "\n",
        "</div>"
      ],
      "execution_count": 1,
      "outputs": [
        {
          "output_type": "display_data",
          "data": {
            "text/html": [
              "\n",
              "<div>\n",
              "<td> \n",
              "<img src=\"https://www.unil.ch/logo/files/live/sites/logo/files/web/eps/lo_unil06_bleu.eps\" style=\"padding-right:10px;width:240px;float:left\"/></td>\n",
              "<h2 style=\"white-space: nowrap\">Business Intelligence and Analytics</h2></td>\n",
              "<hr style=\"clear:both\">\n",
              "<p style=\"font-size:0.85em; margin:2px; text-align:justify\">\n",
              "\n",
              "</div>"
            ],
            "text/plain": [
              "<IPython.core.display.HTML object>"
            ]
          },
          "metadata": {
            "tags": []
          }
        }
      ]
    },
    {
      "cell_type": "markdown",
      "metadata": {
        "id": "V2ytee3GxKCe"
      },
      "source": [
        "\r\n",
        "\r\n",
        "The goal of this Walkthrough is to allow you to familiarize yourself with Colab, Markdown, and the usage of Python. In order to achieve that, we partly recreated the Moodle-page of this course. As you will see, you can familiarize yourself with the concepts laid down below. At the end of the laboratory, we propose two small excercise to apply the concepts and use this knowledge for concrete examples ! \r\n",
        "\r\n",
        "\r\n",
        "### Index and usefull links\r\n",
        "\r\n",
        "This laboratory is a short introduction to the functionnalities and use we may have of colab for text, code blocks and video embeddings. Please, for future labs, do not hesitate to refer to the links bellow for further explanations.\r\n",
        "\r\n",
        "<div class=\"alert alert-info\">\r\n",
        "    \r\n",
        "**Note 1 :** To avoid redundancy, some of the links are not clickable as they are being part of the content given in a upper part link.\r\n",
        "\r\n",
        "**Note 2 :** Click on the top left hand side `summary` toggle to access the full index of this notebook\r\n",
        "\r\n",
        "</div>\r\n",
        "\r\n",
        "1. [Collab](https://colab.research.google.com/notebooks/intro.ipynb)\r\n",
        "    1. [Open a notebook from GitHub](https://colab.research.google.com/github/googlecolab/colabtools/blob/master/notebooks/colab-github-demo.ipynb)\r\n",
        "    2. [Work on a notebook](https://colab.research.google.com/drive/1YKHHLSlG-B9Ez2-zf-YFxXTVgfC_Aqtt#scrollTo=Ga5KS3DBmvop)\r\n",
        "    3. [Save a notebook in Drive](https://colab.research.google.com/drive/1YKHHLSlG-B9Ez2-zf-YFxXTVgfC_Aqtt#scrollTo=Ga5KS3DBmvop)\r\n",
        "    4. [Download a notebook](https://colab.research.google.com/drive/1YKHHLSlG-B9Ez2-zf-YFxXTVgfC_Aqtt#scrollTo=Ga5KS3DBmvop)\r\n",
        "2. [Markdown](https://colab.research.google.com/notebooks/markdown_guide.ipynb)\r\n",
        "    1. [Headers](https://github.com/adam-p/markdown-here/wiki/Markdown-Cheatsheet#headers)\r\n",
        "    2. [Emphasis (bold, italics, strikethrough)](https://github.com/adam-p/markdown-here/wiki/Markdown-Cheatsheet#emphasis)\r\n",
        "    3. [Blockquotes](https://github.com/adam-p/markdown-here/wiki/Markdown-Cheatsheet#blockquotes) \r\n",
        "    4. [Lists](https://github.com/adam-p/markdown-here/wiki/Markdown-Cheatsheet#lists) \r\n",
        "    5. [Links](https://github.com/adam-p/markdown-here/wiki/Markdown-Cheatsheet#links)    \r\n",
        "    6. [Horizontal lines](https://github.com/adam-p/markdown-here/wiki/Markdown-Cheatsheet#horizontal-rule)\r\n",
        "    7. [Tables](https://github.com/adam-p/markdown-here/wiki/Markdown-Cheatsheet#tables)\r\n",
        "    8. [Images](https://github.com/adam-p/markdown-here/wiki/Markdown-Cheatsheet#images)\r\n",
        "    9. [Videos](https://github.com/adam-p/markdown-here/wiki/Markdown-Cheatsheet#youtube-videos)\r\n",
        "    10. [Mathematical formulas](#-2.10.-Mathematical-formulas)\r\n",
        "\r\n",
        "3. [Python](https://colab.research.google.com/github/jakevdp/PythonDataScienceHandbook/blob/master/notebooks/Index.ipynb)\r\n",
        "\r\n",
        "4. [Exercises](#-4.-Exercises)\r\n",
        "  1. [Mean square case](#-4.-Mean-square-case)\r\n",
        "\r\n"
      ]
    },
    {
      "cell_type": "markdown",
      "metadata": {
        "id": "jyij8neZz4yD"
      },
      "source": [
        "# <a class=\"anchor\"></a> 1. Collab\r\n",
        "\r\n",
        "\r\n",
        "\r\n"
      ]
    },
    {
      "cell_type": "markdown",
      "metadata": {
        "id": "ebWNTbP6kJ8E"
      },
      "source": [
        "#### <a class=\"anchor\"></a> 1.A. Open a notebook from GitHub\n",
        "\n",
        "To open a notebook in Google Colab, simply click the \"open in colab\" button you can find on the GitHub notebook. You can also open a collab window, and in the \"folder\" toggle at the top right, click on \"import notebook\" and then select Github as your import choice. For the rest, select the repositorty and notebook of interest and import ! \n"
      ]
    },
    {
      "cell_type": "markdown",
      "metadata": {
        "id": "5JOOTcMWirVR"
      },
      "source": [
        "#### <a class=\"anchor\"></a> 1.2. Work on a notebook\n",
        " In order to work on the notebook, right after opening it, you should click \"Copy to drive\" (right above the cells). This will open another window in which you can then freely work on the notebook. You can then create, modify, and delete files as you wish."
      ]
    },
    {
      "cell_type": "markdown",
      "metadata": {
        "id": "qqR3SRghirv3"
      },
      "source": [
        "#### <a class=\"anchor\"></a> 1.3. Save a Notebook in Drive\n",
        " Saving your notebooks on Google Drive is the easiest option. To do so, simply go to \"File\" > \"Save\". You will then be able to reopen it with \"File\" > \"Open notebook\" > \"Google Drive\"."
      ]
    },
    {
      "cell_type": "markdown",
      "metadata": {
        "id": "F6cXeIxnir33"
      },
      "source": [
        "#### <a class=\"anchor\"></a> 1.4. Download a Notebook \n",
        " This is an alternative to saving your notebooks on Google Drive. Use \"File\" > \"Download .ipynb\" to do so. You can then reopen your notebook with \"File\" > \"Open notebook\" > \"Upload\"."
      ]
    },
    {
      "cell_type": "markdown",
      "metadata": {
        "id": "5SFM7d2Qz6Oc"
      },
      "source": [
        "# <a class=\"anchor\"></a> 2. Markdown\r\n",
        "Double-click on the cell below to find out how to write in Markdown (left part of the cell) so that it gets rendered as we want it to be (right part of the cell). As you can see, we partly recreated the BIA moodle-page so that you can see how Markdown works."
      ]
    },
    {
      "cell_type": "markdown",
      "metadata": {
        "id": "x7QfzpdBtdCJ"
      },
      "source": [
        "#### <a class=\"anchor\"></a> 2.1. Headers\n",
        "\n",
        "As you can see, using a special formatting of the text, we can manage to make section title, subtitles and so on. Below, we show a toy example to create a structure similar to what you would find on our moodle page."
      ]
    },
    {
      "cell_type": "markdown",
      "metadata": {
        "id": "K4RUQhX-vblW"
      },
      "source": [
        "### Business Intelligence and Analytics\n",
        "**Instructeurs:** Prof. Vlachos, Dr. Orso\n",
        "\n",
        "**TAs:**\n",
        "- Jonas\n",
        "- Mathilde\n",
        "- Lucas\n",
        "- Kamil\n",
        "\n",
        "___\n"
      ]
    },
    {
      "cell_type": "markdown",
      "metadata": {
        "id": "iAFHwcz9tdMn"
      },
      "source": [
        "#### <a class=\"anchor\"></a> 2.2. Emphasis (bold, italics, strikethrough)"
      ]
    },
    {
      "cell_type": "markdown",
      "metadata": {
        "id": "sBfy5kaMIGxt"
      },
      "source": [
        "\n",
        "Fortune 500 - Top 5 | Preview\n",
        "--- | ---\n",
        "`**Walmart**` | **Walmart text**\n",
        "`*Amzaon*` and `_Exxon Mobile_` | *Amazon* and _Exxon Mobile_\n",
        "`` `Apple` `` | `Apple`\n",
        "`~~CVS Health~~` | ~~CVS Health~~"
      ]
    },
    {
      "cell_type": "markdown",
      "metadata": {
        "id": "lQGGvCDftdWT"
      },
      "source": [
        "#### <a class=\"anchor\"></a> 2.3. Blockquotes\n",
        "\n",
        "Below, you see the point of using blockquote and the type of output to expect\n",
        "\n",
        ">Les entreprises collectent de grandes quantités de données sur leurs clients: historique des achats, réponses aux événements de marketing, journalisation des recherches sur le Web, etc. Dans l'économie actuelle, les données peuvent aider les entreprises à mieux comprendre leurs clients et à prendre des décisions commerciales plus éclairées.\n",
        ">\n",
        ">L'objectif de ce cours est d'introduire des concepts en Business Intelligence et en analyse de données (Data Analytics).Durant ce cours, nous passerons en revue plusieurs méthodes pour extraire et manipuler des données (SQL), visualiser des données et prendre des décisions prédictives à partir de données. Nous soulignerons également les pièges potentiels liés à ces méthodes. Les étudiants expérimenteront ces sujets de manière pratique avec du code Python.\n"
      ]
    },
    {
      "cell_type": "markdown",
      "metadata": {
        "id": "5zVs4aMItdgJ"
      },
      "source": [
        "#### <a class=\"anchor\"></a> 2.4-5. Lists and Links\n"
      ]
    },
    {
      "cell_type": "markdown",
      "metadata": {
        "id": "Pjj-xSgP_1a2"
      },
      "source": [
        "\n",
        "### Books\n",
        "Here are some good books \n",
        "\n",
        "1. [Business Analytics](https://www.amazon.com/gp/product/B075XLZY23/ref=ppx_yo_dt_b_d_asin_title_o02?ie=UTF8&psc=1)\n",
        "2. [Business Intelligence, Analytics, and Data Science](https://www.amazon.com/gp/product/B01N5RQVHE/ref=ppx_yo_dt_b_d_asin_title_o00?ie=UTF8&psc=1)\n",
        "3. [Data Science for Business](https://www.amazon.com/Data-Science-Business-Data-Analytic-Thinking/dp/1449361323/ref=sr_1_1?crid=351XYNR4NUUSB&keywords=data+science+for+business+by+foster+provost+and+tom+fawcett&qid=1580462788&sprefix=provost+business+%2Caps%2C264&sr=8-1)"
      ]
    },
    {
      "cell_type": "markdown",
      "metadata": {
        "id": "unCwlIjstdxm"
      },
      "source": [
        "## <a class=\"anchor\"></a> 2.6. Horizontal lines\n",
        "\n"
      ]
    },
    {
      "cell_type": "markdown",
      "metadata": {
        "id": "IEb-wE-OKijL"
      },
      "source": [
        "For practical reasons, we put you here the table from [markdown tutorial](https://github.com/adam-p/markdown-here/wiki/Markdown-Cheatsheet#hr)"
      ]
    },
    {
      "cell_type": "markdown",
      "metadata": {
        "id": "NY_tOTpKKRns"
      },
      "source": [
        "Three or more...\n",
        "\n",
        "---\n",
        "\n",
        "Hyphens\n",
        "\n",
        "***\n",
        "\n",
        "Asterisks\n",
        "\n",
        "___\n",
        "\n",
        "Underscores"
      ]
    },
    {
      "cell_type": "markdown",
      "metadata": {
        "id": "c7BSLkXEtdpJ"
      },
      "source": [
        "## <a class=\"anchor\"></a> 2.7. Tables\n"
      ]
    },
    {
      "cell_type": "markdown",
      "metadata": {
        "id": "sooJScBKAHKj"
      },
      "source": [
        "###Quizzes/Examens\n",
        "Below, a small table we created to show you the synthax to adopt for such purpose. Please, investigate the code to get familiar with the concept.\n",
        "\n",
        "| Examen | Contenu |\n",
        "| :---: | :---: |\n",
        "| **Mid-term** | semaine 1-6 |\n",
        "| **Final**| semaine 1-12|\n"
      ]
    },
    {
      "cell_type": "markdown",
      "metadata": {
        "id": "VREbd8xPteLn"
      },
      "source": [
        "## <a class=\"anchor\"></a> 2.8. Images\n"
      ]
    },
    {
      "cell_type": "markdown",
      "metadata": {
        "id": "eQnAegWC7N8w"
      },
      "source": [
        "\r\n",
        "### ___Business Intelligence Image___\r\n",
        "\r\n",
        "Here is a quick example to allow you to embed images in the notebook. \r\n",
        "\r\n",
        "![error](https://www.datapine.com/de/images/business-intelligence-datapine.png)"
      ]
    },
    {
      "cell_type": "markdown",
      "metadata": {
        "id": "fzk002A7teTL"
      },
      "source": [
        "## <a class=\"anchor\"></a> 2.9. Videos\n"
      ]
    },
    {
      "cell_type": "markdown",
      "metadata": {
        "id": "-5DmHkue8hMX"
      },
      "source": [
        "###***Unil Video***\r\n",
        "\r\n",
        "You can either do this:\r\n",
        "\r\n",
        "[![error](https://coursera-university-assets.s3.amazonaws.com/cb/63426036f974ead503ecc0e0e25bbc/Carre_B_300x300.png)](https://www.youtube.com/watch?v=0M2EbryHZr0)\r\n",
        "\r\n",
        "Or Alternatively that (possibility to change the size and border):\r\n",
        "\r\n",
        "<a href=\"http://www.youtube.com/watch?feature=player_embedded&v=0M2EbryHZr0\r\n",
        "\" target=\"_blank\"><img src=\"https://coursera-university-assets.s3.amazonaws.com/cb/63426036f974ead503ecc0e0e25bbc/Carre_B_300x300.png\" \r\n",
        "alt=\"Error\" width=\"500\" height=\"500\" border=\"5\" /></a>\r\n"
      ]
    },
    {
      "cell_type": "markdown",
      "metadata": {
        "id": "aaXGMtWEucCu"
      },
      "source": [
        "## <a class=\"anchor\"></a> 2.10. Mathematical Formulas\n"
      ]
    },
    {
      "cell_type": "markdown",
      "metadata": {
        "id": "-_9ru-HCAsm9"
      },
      "source": [
        "### Evaluation\n",
        "\n",
        "Following our example, here the formula used to calculate your final grade for the course. \n",
        "\n",
        "$Note = [0.3 * \\max(midterm, final)] + [0.7 * final] + Assignment$"
      ]
    },
    {
      "cell_type": "markdown",
      "metadata": {
        "id": "fY_2Pgo01YV7"
      },
      "source": [
        "\r\n",
        "\r\n",
        "\r\n",
        "\r\n",
        "\r\n",
        "\r\n",
        "\r\n"
      ]
    },
    {
      "cell_type": "markdown",
      "metadata": {
        "id": "YW5zLjLd0p-j"
      },
      "source": [
        "# <a class=\"anchor\"></a> 3. Python\r\n",
        "#### We have the formula to compute your final grade for this class. However, wouldn't it be convenient to let Python do the computations for us?\r\n",
        "#### In order to run the few code-cells that follow, you have two options. Either press the \"play-button\" that appears if you hover your mouse over the cell, or select the cell by clicking on it and then press ctrl+shift on your keyboard."
      ]
    },
    {
      "cell_type": "code",
      "metadata": {
        "id": "Q3SrQXP0-Mg5"
      },
      "source": [
        "def Grade(midterm, final, assignment):\r\n",
        "  if midterm <= final:\r\n",
        "    grade = final + assignment\r\n",
        "  else:\r\n",
        "    grade = 0.3*midterm + 0.7*final + assignment\r\n",
        "  grade_in_range = min(grade, 6)\r\n",
        "  grade_rounded = round(grade_in_range, 2)\r\n",
        "  print('Your final grade for this class is :', grade_rounded)"
      ],
      "execution_count": 2,
      "outputs": []
    },
    {
      "cell_type": "markdown",
      "metadata": {
        "id": "FNQSrHRVi9oj"
      },
      "source": [
        "Or alternatively, as a two-liner:"
      ]
    },
    {
      "cell_type": "code",
      "metadata": {
        "id": "3SnQ-lzyi-gD"
      },
      "source": [
        "def Grade(midterm, final, assignment):\r\n",
        "  print('Your final grade for this class is:', round(min(0.3*max(midterm, final) + 0.7*final + assignment, 6), 2))"
      ],
      "execution_count": 3,
      "outputs": []
    },
    {
      "cell_type": "code",
      "metadata": {
        "id": "rmtanKcV-_NH",
        "colab": {
          "base_uri": "https://localhost:8080/"
        },
        "outputId": "acce0fdd-2c00-4d7f-c41f-373e3cea2e04"
      },
      "source": [
        "Grade(4.5, 5, 0.25)"
      ],
      "execution_count": 4,
      "outputs": [
        {
          "output_type": "stream",
          "text": [
            "Your final grade for this class is: 5.25\n"
          ],
          "name": "stdout"
        }
      ]
    },
    {
      "cell_type": "code",
      "metadata": {
        "id": "JXLqNrBWwoQq",
        "colab": {
          "base_uri": "https://localhost:8080/"
        },
        "outputId": "ff9bdef4-f632-4141-cfc1-9830e9fa7214"
      },
      "source": [
        "Grade(6, 3.5, 0.5)"
      ],
      "execution_count": 5,
      "outputs": [
        {
          "output_type": "stream",
          "text": [
            "Your final grade for this class is: 4.75\n"
          ],
          "name": "stdout"
        }
      ]
    },
    {
      "cell_type": "code",
      "metadata": {
        "id": "csLhZZbpwxPe",
        "colab": {
          "base_uri": "https://localhost:8080/"
        },
        "outputId": "7954bff9-990e-450e-a27a-a10e99bd9a0d"
      },
      "source": [
        "Grade(1, 5.5, 0)"
      ],
      "execution_count": 6,
      "outputs": [
        {
          "output_type": "stream",
          "text": [
            "Your final grade for this class is: 5.5\n"
          ],
          "name": "stdout"
        }
      ]
    },
    {
      "cell_type": "code",
      "metadata": {
        "id": "XGR1KVq7w4y-",
        "colab": {
          "base_uri": "https://localhost:8080/"
        },
        "outputId": "966a0b0d-135e-4ea6-884e-e7b86613b928"
      },
      "source": [
        "Grade(5.5, 6, 0.5)"
      ],
      "execution_count": 7,
      "outputs": [
        {
          "output_type": "stream",
          "text": [
            "Your final grade for this class is: 6\n"
          ],
          "name": "stdout"
        }
      ]
    },
    {
      "cell_type": "markdown",
      "metadata": {
        "id": "xbR2f2snQlVe"
      },
      "source": [
        "# <a class=\"anchor\"></a> 4. Exercises"
      ]
    },
    {
      "cell_type": "markdown",
      "metadata": {
        "id": "R1Sl8arPQ3-e"
      },
      "source": [
        "#### <a class=\"anchor\"></a> 4.1. Mean square case"
      ]
    },
    {
      "cell_type": "markdown",
      "metadata": {
        "id": "NOsLElINRDcg"
      },
      "source": [
        "In this part of the lab, we want you to make practical use of the markdown tool we just presented you with. To that end, recreate the following section. \n",
        "\n",
        "This may require some knowledge of Latex for recreating the equations, so if you are not very familiar with this just try this [link](http://www.statisticshowto.com/mean-squared-error). If you are still having a hard time, just ask your TAs. \n",
        "\n",
        "![Colab](https://raw.githubusercontent.com/michalis0/Business-Intelligence-and-Analytics/master/week1%20-%20Python%20Notebooks/Exercise1.png).\n",
        "\n",
        "Link used:\n",
        "- http://www.statisticshowto.com/mean-squared-error"
      ]
    },
    {
      "cell_type": "markdown",
      "metadata": {
        "id": "86estbPCzS8T"
      },
      "source": [
        "## <a class=\"anchor\"></a> 4.2. Amazon\n",
        "\n"
      ]
    },
    {
      "cell_type": "markdown",
      "metadata": {
        "id": "cE-V6DyrzmvK"
      },
      "source": [
        "Exercise 2: Recreate the notebook bellow in Colab. ![this](https://raw.githubusercontent.com/michalis0/Business-Intelligence-and-Analytics/master/week1%20-%20Python%20Notebooks/Exercice2.png) Links used:\n",
        "\n",
        "-   https://upload.wikimedia.org/wikipedia/commons/a/a9/Amazon_logo.svg\n",
        "-   https://en.wikipedia.org/wiki/Prime_Video\n",
        "-   https://en.wikipedia.org/wiki/Twitch_(service)\n",
        "-   https://en.wikipedia.org/wiki/Amazon_Web_Services\n",
        "-   https://www.bbc.com/news/business-55927979\n",
        "-   https://www.independent.co.uk/news/world/americas/jeff-bezos-letter-amazon-b1796716.html\n",
        "-   https://www.youtube.com/embed/a9__D53WsUs\n",
        "\n"
      ]
    },
    {
      "cell_type": "code",
      "metadata": {
        "id": "Dw-hZ2dx0rJI"
      },
      "source": [
        ""
      ],
      "execution_count": 7,
      "outputs": []
    }
  ]
}
